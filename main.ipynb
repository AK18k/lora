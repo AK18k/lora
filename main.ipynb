{
  "cells": [
    {
      "cell_type": "code",
      "execution_count": 1,
      "metadata": {
        "colab": {
          "base_uri": "https://localhost:8080/"
        },
        "id": "19mBVBKOU8ul",
        "outputId": "7db954f8-1fc8-4ece-a8f7-e4544ac25360"
      },
      "outputs": [
        {
          "output_type": "stream",
          "name": "stdout",
          "text": [
            "Cloning into 'lora'...\n",
            "remote: Enumerating objects: 1360, done.\u001b[K\n",
            "remote: Counting objects: 100% (1360/1360), done.\u001b[K\n",
            "remote: Compressing objects: 100% (966/966), done.\u001b[K\n",
            "remote: Total 1360 (delta 360), reused 1359 (delta 359), pack-reused 0\u001b[K\n",
            "Receiving objects: 100% (1360/1360), 23.86 MiB | 19.09 MiB/s, done.\n",
            "Resolving deltas: 100% (360/360), done.\n"
          ]
        }
      ],
      "source": [
        "        !git clone https://github.com/AK18k/lora"
      ]
    },
    {
      "cell_type": "code",
      "source": [
        "!pwd"
      ],
      "metadata": {
        "id": "rGTMRSDrVdwA",
        "outputId": "603de879-3430-459e-ea8e-b07b52156f4b",
        "colab": {
          "base_uri": "https://localhost:8080/"
        }
      },
      "execution_count": 5,
      "outputs": [
        {
          "output_type": "stream",
          "name": "stdout",
          "text": [
            "/content\n"
          ]
        }
      ]
    },
    {
      "cell_type": "code",
      "source": [
        "# !cd ./lora/examples/NLG\n",
        "# !ls '*.sh'\n",
        "!bash ./lora/examples/NLG/download_pretrained_checkpoints.sh"
      ],
      "metadata": {
        "id": "1aI_0ZMPVrux",
        "outputId": "2ca0a530-936a-4dd9-a441-c7a463729c95",
        "colab": {
          "base_uri": "https://localhost:8080/"
        }
      },
      "execution_count": 12,
      "outputs": [
        {
          "output_type": "stream",
          "name": "stdout",
          "text": [
            "downloading pretrained model checkpoints...\n",
            "--2023-06-02 18:24:37--  https://s3.amazonaws.com/models.huggingface.co/bert/gpt2-pytorch_model.bin\n",
            "Resolving s3.amazonaws.com (s3.amazonaws.com)... 54.231.225.168, 52.216.26.230, 54.231.202.48, ...\n",
            "Connecting to s3.amazonaws.com (s3.amazonaws.com)|54.231.225.168|:443... connected.\n",
            "HTTP request sent, awaiting response... 200 OK\n",
            "Length: 548118077 (523M) [application/octet-stream]\n",
            "Saving to: ‘gpt2-pytorch_model.bin’\n",
            "\n",
            "gpt2-pytorch_model. 100%[===================>] 522.73M  39.3MB/s    in 12s     \n",
            "\n",
            "2023-06-02 18:24:50 (43.0 MB/s) - ‘gpt2-pytorch_model.bin’ saved [548118077/548118077]\n",
            "\n",
            "--2023-06-02 18:24:50--  https://s3.amazonaws.com/models.huggingface.co/bert/gpt2-medium-pytorch_model.bin\n",
            "Resolving s3.amazonaws.com (s3.amazonaws.com)... 54.231.230.80, 52.216.105.253, 52.217.226.40, ...\n",
            "Connecting to s3.amazonaws.com (s3.amazonaws.com)|54.231.230.80|:443... connected.\n",
            "HTTP request sent, awaiting response... 200 OK\n",
            "Length: 1520013706 (1.4G) [application/octet-stream]\n",
            "Saving to: ‘gpt2-medium-pytorch_model.bin’\n",
            "\n",
            "gpt2-medium-pytorch 100%[===================>]   1.42G  32.5MB/s    in 38s     \n",
            "\n",
            "2023-06-02 18:25:28 (38.5 MB/s) - ‘gpt2-medium-pytorch_model.bin’ saved [1520013706/1520013706]\n",
            "\n",
            "--2023-06-02 18:25:28--  https://s3.amazonaws.com/models.huggingface.co/bert/gpt2-large-pytorch_model.bin\n",
            "Resolving s3.amazonaws.com (s3.amazonaws.com)... 52.217.65.118, 52.217.160.32, 3.5.16.140, ...\n",
            "Connecting to s3.amazonaws.com (s3.amazonaws.com)|52.217.65.118|:443... connected.\n",
            "HTTP request sent, awaiting response... 200 OK\n",
            "Length: 3247202234 (3.0G) [application/octet-stream]\n",
            "Saving to: ‘gpt2-large-pytorch_model.bin’\n",
            "\n",
            "gpt2-large-pytorch_ 100%[===================>]   3.02G  40.5MB/s    in 86s     \n",
            "\n",
            "2023-06-02 18:26:54 (36.0 MB/s) - ‘gpt2-large-pytorch_model.bin’ saved [3247202234/3247202234]\n",
            "\n",
            "script complete!\n"
          ]
        }
      ]
    }
  ],
  "metadata": {
    "language_info": {
      "name": "python"
    },
    "orig_nbformat": 4,
    "colab": {
      "provenance": []
    },
    "kernelspec": {
      "name": "python3",
      "display_name": "Python 3"
    }
  },
  "nbformat": 4,
  "nbformat_minor": 0
}