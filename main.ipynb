{
  "cells": [
    {
      "cell_type": "code",
      "execution_count": 1,
      "metadata": {
        "colab": {
          "base_uri": "https://localhost:8080/"
        },
        "id": "19mBVBKOU8ul",
        "outputId": "336416ac-dae8-429f-dbc2-331ef7f4b1e3"
      },
      "outputs": [
        {
          "output_type": "stream",
          "name": "stdout",
          "text": [
            "Cloning into 'lora'...\n",
            "remote: Enumerating objects: 1369, done.\u001b[K\n",
            "remote: Counting objects: 100% (1369/1369), done.\u001b[K\n",
            "remote: Compressing objects: 100% (975/975), done.\u001b[K\n",
            "remote: Total 1369 (delta 365), reused 1358 (delta 359), pack-reused 0\u001b[K\n",
            "Receiving objects: 100% (1369/1369), 23.86 MiB | 21.03 MiB/s, done.\n",
            "Resolving deltas: 100% (365/365), done.\n"
          ]
        }
      ],
      "source": [
        "        !git clone https://github.com/AK18k/lora"
      ]
    },
    {
      "cell_type": "code",
      "source": [
        "!pwd"
      ],
      "metadata": {
        "colab": {
          "base_uri": "https://localhost:8080/"
        },
        "id": "rGTMRSDrVdwA",
        "outputId": "603de879-3430-459e-ea8e-b07b52156f4b"
      },
      "execution_count": null,
      "outputs": [
        {
          "output_type": "stream",
          "name": "stdout",
          "text": [
            "/content\n"
          ]
        }
      ]
    },
    {
      "cell_type": "code",
      "source": [
        "# !cd ./lora/examples/NLG\n",
        "# !ls '*.sh'\n",
        "!bash ./lora/examples/NLG/download_pretrained_checkpoints.sh"
      ],
      "metadata": {
        "colab": {
          "base_uri": "https://localhost:8080/"
        },
        "id": "1aI_0ZMPVrux",
        "outputId": "fd7a7a24-9030-438a-fd26-957fa5278e47"
      },
      "execution_count": 2,
      "outputs": [
        {
          "output_type": "stream",
          "name": "stdout",
          "text": [
            "downloading pretrained model checkpoints...\n",
            "--2023-06-03 09:17:48--  https://s3.amazonaws.com/models.huggingface.co/bert/gpt2-pytorch_model.bin\n",
            "Resolving s3.amazonaws.com (s3.amazonaws.com)... 52.217.103.158, 54.231.166.88, 52.217.161.144, ...\n",
            "Connecting to s3.amazonaws.com (s3.amazonaws.com)|52.217.103.158|:443... connected.\n",
            "HTTP request sent, awaiting response... 200 OK\n",
            "Length: 548118077 (523M) [application/octet-stream]\n",
            "Saving to: ‘gpt2-pytorch_model.bin’\n",
            "\n",
            "gpt2-pytorch_model. 100%[===================>] 522.73M  51.6MB/s    in 9.9s    \n",
            "\n",
            "2023-06-03 09:17:58 (52.6 MB/s) - ‘gpt2-pytorch_model.bin’ saved [548118077/548118077]\n",
            "\n",
            "--2023-06-03 09:17:58--  https://s3.amazonaws.com/models.huggingface.co/bert/gpt2-medium-pytorch_model.bin\n",
            "Resolving s3.amazonaws.com (s3.amazonaws.com)... 52.217.106.14, 52.217.236.232, 52.217.83.238, ...\n",
            "Connecting to s3.amazonaws.com (s3.amazonaws.com)|52.217.106.14|:443... connected.\n",
            "HTTP request sent, awaiting response... 200 OK\n",
            "Length: 1520013706 (1.4G) [application/octet-stream]\n",
            "Saving to: ‘gpt2-medium-pytorch_model.bin’\n",
            "\n",
            "gpt2-medium-pytorch 100%[===================>]   1.42G  46.6MB/s    in 31s     \n",
            "\n",
            "2023-06-03 09:18:28 (47.3 MB/s) - ‘gpt2-medium-pytorch_model.bin’ saved [1520013706/1520013706]\n",
            "\n",
            "--2023-06-03 09:18:28--  https://s3.amazonaws.com/models.huggingface.co/bert/gpt2-large-pytorch_model.bin\n",
            "Resolving s3.amazonaws.com (s3.amazonaws.com)... 52.217.71.38, 52.217.137.56, 52.216.212.208, ...\n",
            "Connecting to s3.amazonaws.com (s3.amazonaws.com)|52.217.71.38|:443... connected.\n",
            "HTTP request sent, awaiting response... 200 OK\n",
            "Length: 3247202234 (3.0G) [application/octet-stream]\n",
            "Saving to: ‘gpt2-large-pytorch_model.bin’\n",
            "\n",
            "gpt2-large-pytorch_ 100%[===================>]   3.02G  49.7MB/s    in 67s     \n",
            "\n",
            "2023-06-03 09:19:36 (45.9 MB/s) - ‘gpt2-large-pytorch_model.bin’ saved [3247202234/3247202234]\n",
            "\n",
            "script complete!\n"
          ]
        }
      ]
    },
    {
      "cell_type": "code",
      "source": [
        "!bash ./lora/examples/NLG/create_datasets.sh"
      ],
      "metadata": {
        "id": "EuLfqW_PYwlz",
        "outputId": "7656474e-1f76-4f80-a242-2074a88fee33",
        "colab": {
          "base_uri": "https://localhost:8080/"
        }
      },
      "execution_count": 3,
      "outputs": [
        {
          "output_type": "stream",
          "name": "stdout",
          "text": [
            "creating e2e datasets...\n",
            "train...\n",
            "python3: can't open file '/content/src/format_converting_e2e.py': [Errno 2] No such file or directory\n",
            "python3: can't open file '/content/src/gpt2_encode.py': [Errno 2] No such file or directory\n",
            "test...\n",
            "python3: can't open file '/content/src/format_converting_e2e.py': [Errno 2] No such file or directory\n",
            "python3: can't open file '/content/src/gpt2_encode.py': [Errno 2] No such file or directory\n",
            "valid...\n",
            "python3: can't open file '/content/src/format_converting_e2e.py': [Errno 2] No such file or directory\n",
            "python3: can't open file '/content/src/gpt2_encode.py': [Errno 2] No such file or directory\n",
            "creating webnlg datasets...\n",
            "train...\n",
            "python3: can't open file '/content/src/format_converting_webnlg.py': [Errno 2] No such file or directory\n",
            "python3: can't open file '/content/src/gpt2_encode.py': [Errno 2] No such file or directory\n",
            "test...\n",
            "python3: can't open file '/content/src/format_converting_webnlg.py': [Errno 2] No such file or directory\n",
            "python3: can't open file '/content/src/gpt2_encode.py': [Errno 2] No such file or directory\n",
            "valid...\n",
            "python3: can't open file '/content/src/format_converting_webnlg.py': [Errno 2] No such file or directory\n",
            "python3: can't open file '/content/src/gpt2_encode.py': [Errno 2] No such file or directory\n",
            "creating dart datasets...\n",
            "train...\n",
            "python3: can't open file '/content/src/format_converting_dart.py': [Errno 2] No such file or directory\n",
            "python3: can't open file '/content/src/gpt2_encode.py': [Errno 2] No such file or directory\n",
            "test...\n",
            "python3: can't open file '/content/src/format_converting_dart.py': [Errno 2] No such file or directory\n",
            "python3: can't open file '/content/src/gpt2_encode.py': [Errno 2] No such file or directory\n",
            "valid...\n",
            "python3: can't open file '/content/src/format_converting_dart.py': [Errno 2] No such file or directory\n",
            "python3: can't open file '/content/src/gpt2_encode.py': [Errno 2] No such file or directory\n",
            "script complete!\n"
          ]
        }
      ]
    }
  ],
  "metadata": {
    "language_info": {
      "name": "python"
    },
    "orig_nbformat": 4,
    "colab": {
      "provenance": []
    },
    "kernelspec": {
      "name": "python3",
      "display_name": "Python 3"
    }
  },
  "nbformat": 4,
  "nbformat_minor": 0
}