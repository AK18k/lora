{
  "cells": [
    {
      "cell_type": "code",
      "execution_count": 1,
      "metadata": {
        "colab": {
          "base_uri": "https://localhost:8080/"
        },
        "id": "19mBVBKOU8ul",
        "outputId": "336416ac-dae8-429f-dbc2-331ef7f4b1e3"
      },
      "outputs": [
        {
          "output_type": "stream",
          "name": "stdout",
          "text": [
            "Cloning into 'lora'...\n",
            "remote: Enumerating objects: 1369, done.\u001b[K\n",
            "remote: Counting objects: 100% (1369/1369), done.\u001b[K\n",
            "remote: Compressing objects: 100% (975/975), done.\u001b[K\n",
            "remote: Total 1369 (delta 365), reused 1358 (delta 359), pack-reused 0\u001b[K\n",
            "Receiving objects: 100% (1369/1369), 23.86 MiB | 21.03 MiB/s, done.\n",
            "Resolving deltas: 100% (365/365), done.\n"
          ]
        }
      ],
      "source": [
        "        !git clone https://github.com/AK18k/lora"
      ]
    },
    {
      "cell_type": "code",
      "source": [
        "!pip install progress"
      ],
      "metadata": {
        "colab": {
          "base_uri": "https://localhost:8080/"
        },
        "id": "rGTMRSDrVdwA",
        "outputId": "01c694ad-5a96-411c-e32f-97a48b8fad21"
      },
      "execution_count": 6,
      "outputs": [
        {
          "output_type": "stream",
          "name": "stdout",
          "text": [
            "Looking in indexes: https://pypi.org/simple, https://us-python.pkg.dev/colab-wheels/public/simple/\n",
            "Collecting progress\n",
            "  Downloading progress-1.6.tar.gz (7.8 kB)\n",
            "  Preparing metadata (setup.py) ... \u001b[?25l\u001b[?25hdone\n",
            "Building wheels for collected packages: progress\n",
            "  Building wheel for progress (setup.py) ... \u001b[?25l\u001b[?25hdone\n",
            "  Created wheel for progress: filename=progress-1.6-py3-none-any.whl size=9611 sha256=45621f354eb22cdf0cc34a3223fae441db596bf349b30b72992f4ed5526a554a\n",
            "  Stored in directory: /root/.cache/pip/wheels/a2/68/5f/c339b20a41659d856c93ccdce6a33095493eb82c3964aac5a1\n",
            "Successfully built progress\n",
            "Installing collected packages: progress\n",
            "Successfully installed progress-1.6\n"
          ]
        }
      ]
    },
    {
      "cell_type": "code",
      "source": [
        "# !cd ./lora/examples/NLG\n",
        "# !ls '*.sh'\n",
        "!bash ./lora/examples/NLG/download_pretrained_checkpoints.sh"
      ],
      "metadata": {
        "colab": {
          "base_uri": "https://localhost:8080/"
        },
        "id": "1aI_0ZMPVrux",
        "outputId": "fd7a7a24-9030-438a-fd26-957fa5278e47"
      },
      "execution_count": 2,
      "outputs": [
        {
          "output_type": "stream",
          "name": "stdout",
          "text": [
            "downloading pretrained model checkpoints...\n",
            "--2023-06-03 09:17:48--  https://s3.amazonaws.com/models.huggingface.co/bert/gpt2-pytorch_model.bin\n",
            "Resolving s3.amazonaws.com (s3.amazonaws.com)... 52.217.103.158, 54.231.166.88, 52.217.161.144, ...\n",
            "Connecting to s3.amazonaws.com (s3.amazonaws.com)|52.217.103.158|:443... connected.\n",
            "HTTP request sent, awaiting response... 200 OK\n",
            "Length: 548118077 (523M) [application/octet-stream]\n",
            "Saving to: ‘gpt2-pytorch_model.bin’\n",
            "\n",
            "gpt2-pytorch_model. 100%[===================>] 522.73M  51.6MB/s    in 9.9s    \n",
            "\n",
            "2023-06-03 09:17:58 (52.6 MB/s) - ‘gpt2-pytorch_model.bin’ saved [548118077/548118077]\n",
            "\n",
            "--2023-06-03 09:17:58--  https://s3.amazonaws.com/models.huggingface.co/bert/gpt2-medium-pytorch_model.bin\n",
            "Resolving s3.amazonaws.com (s3.amazonaws.com)... 52.217.106.14, 52.217.236.232, 52.217.83.238, ...\n",
            "Connecting to s3.amazonaws.com (s3.amazonaws.com)|52.217.106.14|:443... connected.\n",
            "HTTP request sent, awaiting response... 200 OK\n",
            "Length: 1520013706 (1.4G) [application/octet-stream]\n",
            "Saving to: ‘gpt2-medium-pytorch_model.bin’\n",
            "\n",
            "gpt2-medium-pytorch 100%[===================>]   1.42G  46.6MB/s    in 31s     \n",
            "\n",
            "2023-06-03 09:18:28 (47.3 MB/s) - ‘gpt2-medium-pytorch_model.bin’ saved [1520013706/1520013706]\n",
            "\n",
            "--2023-06-03 09:18:28--  https://s3.amazonaws.com/models.huggingface.co/bert/gpt2-large-pytorch_model.bin\n",
            "Resolving s3.amazonaws.com (s3.amazonaws.com)... 52.217.71.38, 52.217.137.56, 52.216.212.208, ...\n",
            "Connecting to s3.amazonaws.com (s3.amazonaws.com)|52.217.71.38|:443... connected.\n",
            "HTTP request sent, awaiting response... 200 OK\n",
            "Length: 3247202234 (3.0G) [application/octet-stream]\n",
            "Saving to: ‘gpt2-large-pytorch_model.bin’\n",
            "\n",
            "gpt2-large-pytorch_ 100%[===================>]   3.02G  49.7MB/s    in 67s     \n",
            "\n",
            "2023-06-03 09:19:36 (45.9 MB/s) - ‘gpt2-large-pytorch_model.bin’ saved [3247202234/3247202234]\n",
            "\n",
            "script complete!\n"
          ]
        }
      ]
    },
    {
      "cell_type": "code",
      "source": [
        "!bash ./lora/examples/NLG/create_datasets.sh"
      ],
      "metadata": {
        "id": "EuLfqW_PYwlz",
        "outputId": "07c00afd-d3c6-4a32-b805-64ad416adb12",
        "colab": {
          "base_uri": "https://localhost:8080/"
        }
      },
      "execution_count": 4,
      "outputs": [
        {
          "output_type": "stream",
          "name": "stdout",
          "text": [
            "creating e2e datasets...\n",
            "train...\n",
            "Traceback (most recent call last):\n",
            "  File \"/content/lora/examples/NLG/src/gpt2_encode.py\", line 31, in <module>\n",
            "    from progress.bar import Bar as Bar\n",
            "ModuleNotFoundError: No module named 'progress'\n",
            "test...\n",
            "Traceback (most recent call last):\n",
            "  File \"/content/lora/examples/NLG/src/gpt2_encode.py\", line 31, in <module>\n",
            "    from progress.bar import Bar as Bar\n",
            "ModuleNotFoundError: No module named 'progress'\n",
            "valid...\n",
            "Traceback (most recent call last):\n",
            "  File \"/content/lora/examples/NLG/src/gpt2_encode.py\", line 31, in <module>\n",
            "    from progress.bar import Bar as Bar\n",
            "ModuleNotFoundError: No module named 'progress'\n",
            "^C\n"
          ]
        }
      ]
    }
  ],
  "metadata": {
    "language_info": {
      "name": "python"
    },
    "orig_nbformat": 4,
    "colab": {
      "provenance": []
    },
    "kernelspec": {
      "name": "python3",
      "display_name": "Python 3"
    }
  },
  "nbformat": 4,
  "nbformat_minor": 0
}